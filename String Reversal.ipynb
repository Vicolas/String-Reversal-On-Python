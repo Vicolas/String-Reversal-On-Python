{
 "cells": [
  {
   "cell_type": "code",
   "execution_count": 1,
   "id": "d228648f",
   "metadata": {},
   "outputs": [
    {
     "name": "stdout",
     "output_type": "stream",
     "text": [
      "lasrever\n"
     ]
    }
   ],
   "source": [
    "# Two ways to reverse a string\n",
    "# First the slice function\n",
    "\n",
    "# str[start:stop:step]\n",
    "# This is the extended slice syntax  The start and stop parameters are the indices \n",
    "# between which the function manipulates the string. The stop parameter are the hops\n",
    "# or jumps the function makes while it reverses the string\n",
    "\n",
    "\n",
    "# Defining the string\n",
    "test = \"reversal\"      # or test = \"reversal\"[::-1] when done this way the next line of code and be omitted\n",
    "\n",
    "# Manipulationg the str with a slice function by assigning a value to a new variable\n",
    "new_test = test[::-1]  # The -1 step parameter means that the string will be reversed from the right\n",
    "                       # one insex position at a time\n",
    "\n",
    "\n",
    "# Printing the manipulated string to see that it works\n",
    "print(new_test)\n",
    "\n"
   ]
  },
  {
   "cell_type": "code",
   "execution_count": 2,
   "id": "397fbd64",
   "metadata": {},
   "outputs": [
    {
     "name": "stdout",
     "output_type": "stream",
     "text": [
      "lasrever\n"
     ]
    }
   ],
   "source": [
    "# Second the recursion function\n",
    "\n",
    "# Define a function and pass a variable to it\n",
    "def string_reverse(str): \n",
    "    # This function will act as a conditional 'if statement'\n",
    "    if len(str) == 0:\n",
    "        # Return the value of str\n",
    "        return(str)\n",
    "    # Adding an else ststement to recursively call the slice function but with a modified string every time\n",
    "    else:\n",
    "        return string_reverse(str[1:]) + str[0]\n",
    "str = \"reversal\"\n",
    "reverse = string_reverse(str)\n",
    "print(reverse)"
   ]
  },
  {
   "cell_type": "code",
   "execution_count": null,
   "id": "629b205b",
   "metadata": {},
   "outputs": [],
   "source": []
  }
 ],
 "metadata": {
  "kernelspec": {
   "display_name": "Python 3 (ipykernel)",
   "language": "python",
   "name": "python3"
  },
  "language_info": {
   "codemirror_mode": {
    "name": "ipython",
    "version": 3
   },
   "file_extension": ".py",
   "mimetype": "text/x-python",
   "name": "python",
   "nbconvert_exporter": "python",
   "pygments_lexer": "ipython3",
   "version": "3.9.12"
  }
 },
 "nbformat": 4,
 "nbformat_minor": 5
}
